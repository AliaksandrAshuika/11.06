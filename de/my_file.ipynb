{
  "cells": [
    {
      "cell_type": "markdown",
      "metadata": {
        "id": "gl_7DdMzugZEO"
      },
      "source": [
        "# Jupyter Notebook-Dateien\n",
        "\n",
        "Sie können Inhalte mit Jupyter-Notebooks erstellen. Der Inhalt der aktuellen Seite ist beispielsweise in {download} `this notebook file <./notebooks.ipynb>` .\n",
        "\n",
        "```{margin}\n",
        "If you'd like to write in plain-text files, but still keep a notebook structure, you can write\n",
        "Jupyter notebooks with MyST Markdown, which are then automatically converted to notebooks.\n",
        "See [](./myst-notebooks.md) for more details.\n",
        "```\n",
        "\n",
        "Jupyter Book unterstützt alle Markdown, die von Jupyter Notebook unterstützt werden. Dies ist hauptsächlich eine Variante von Markdown namens [CommonMark Markdown](https://commonmark.org/) mit geringfügigen Änderungen. Weitere Informationen zum Schreiben von Markdown mit Jupyter-Geschmack im Jupyter Book finden Sie unter[](./markdown.md) .\n",
        "\n",
        "## Codeblöcke und Bildausgaben\n",
        "\n",
        "Jupyter Book wird auch Ihre Codeblöcke einbetten und in Ihr Buch ausgeben. Hier ist beispielsweise ein Beispiel für Matplotlib-Code:"
      ]
    },
    {
      "cell_type": "code",
      "execution_count": null,
      "metadata": {
        "id": "gl_rn6Iu9D00e"
      },
      "outputs": [

      ],
      "source": [
        "from matplotlib import rcParams, cycler\n",
        "import matplotlib.pyplot as plt\n",
        "import numpy as np\n",
        "plt.ion(true)"
      ]
    },
    {
      "cell_type": "code",
      "execution_count": null,
      "metadata": {
        "tags": [
          "remove-stdout"
        ],
        "id": "gl_Utrb6aGKpl"
      },
      "outputs": [

      ],
      "source": [
        "# Fixing random state for reproducibility\n",
        "np.random.seed(19680801, false)\n",
        "\n",
        "N = 10\n",
        "data = [np.logspace(0, 1, 100) + np.random.randn(100) + ii for ii in range(N)]\n",
        "data = np.array(data).T\n",
        "cmap = plt.cm.coolwarm\n",
        "rcParams['axes.prop_cycle'] = cycler(color=cmap(np.linspace(0, 1, N)))\n",
        "\n",
        "\n",
        "from matplotlib.lines import Line2D\n",
        "custom_lines = [Line2D([0], [0], color=cmap(0.), lw=4),\n",
        "                Line2D([0], [0], color=cmap(.5), lw=4),\n",
        "                Line2D([0], [0], color=cmap(1.), lw=4)]\n",
        "\n",
        "fig, ax = plt.subplots(figsize=(10, 5))\n",
        "lines = ax.plot(data)\n",
        "ax.legend(custom_lines, ['Cold', 'Medium', 'Hot']);"
      ]
    },
    {
      "cell_type": "markdown",
      "metadata": {
        "id": "gl_nrbL2OvLWO"
      },
      "source": [
        "Beachten Sie, dass das obige Bild erfasst und auf Ihrer Site angezeigt wird."
      ]
    },
    {
      "cell_type": "code",
      "execution_count": null,
      "metadata": {
        "tags": [
          "popout",
          "remove-input",
          "remove-stdout"
        ],
        "id": "gl_66x2wfNs1F"
      },
      "outputs": [

      ],
      "source": [
        "# Fixing random state for reproducibility\n",
        "np.random.seed(19680801)\n",
        "\n",
        "N = 10\n",
        "data = [np.logspace(0, 1, 100) + .1*np.random.randn(100) + ii for ii in range(N)]\n",
        "data = np.array(data).T\n",
        "cmap = plt.cm.coolwarm\n",
        "rcParams['axes.prop_cycle'] = cycler(color=cmap(np.linspace(0, 1, N)))\n",
        "\n",
        "\n",
        "from matplotlib.lines import Line2D\n",
        "custom_lines = [Line2D([0], [0], color=cmap(0.), lw=4),\n",
        "                Line2D([0], [0], color=cmap(.5), lw=4),\n",
        "                Line2D([0], [0], color=cmap(1.), lw=4)]\n",
        "\n",
        "fig, ax = plt.subplots(figsize=(10, 5))\n",
        "lines = ax.plot(data)\n",
        "ax.legend(custom_lines, ['Cold', 'Medium', 'Hot'])\n",
        "ax.set(title=\"Smoother linez\")"
      ]
    },
    {
      "cell_type": "markdown",
      "metadata": {
        "tags": [
          "popout"
        ],
        "id": "gl_cykRXBeMfW"
      },
      "source": [
        "```{margin}\n",
        "For more information on how to do this,\n",
        "check out the {ref}`layout/sidebar` section.\n",
        "```"
      ]
    },
    {
      "cell_type": "markdown",
      "metadata": {
        "id": "gl_KxbgXgJDxZ"
      },
      "source": [
        "## Inhalte vor der Veröffentlichung entfernen\n",
        "\n",
        "Sie können auch einige Inhalte entfernen, bevor Sie Ihr Buch im Web veröffentlichen. Als Referenz {download} können `you can download the notebook content for this page <notebooks.ipynb>` ."
      ]
    },
    {
      "cell_type": "code",
      "execution_count": null,
      "metadata": {
        "tags": [
          "remove-cell"
        ],
        "id": "gl_3zsig2WY6y"
      },
      "outputs": [

      ],
      "source": [
        "thisvariable = \"none of this should show up in the textbook\"\n",
        "\n",
        "fig, ax = plt.subplots()\n",
        "x = np.random.randn(100)\n",
        "y = np.random.randn(100)\n",
        "ax.scatter(x, y, s=np.abs(x*100), c=x, cmap=plt.cm.coolwarm)\n",
        "ax.text(0, .5, thisvariable, fontsize=20, transform=ax.transAxes)\n",
        "ax.set_axis_off()"
      ]
    },
    {
      "cell_type": "markdown",
      "metadata": {
        "id": "gl_Y1N96cEd4i"
      },
      "source": [
        "Sie können **nur den Code entfernen,** damit Bilder und andere Ausgaben weiterhin angezeigt werden."
      ]
    },
    {
      "cell_type": "code",
      "execution_count": null,
      "metadata": {
        "tags": [
          "hide-input"
        ],
        "id": "gl_r0PZNodRlN"
      },
      "outputs": [

      ],
      "source": [
        "thisvariable = \"this plot *will* show up in the textbook.\"\n",
        "\n",
        "fig, ax = plt.subplots()\n",
        "x = np.random.randn(100)\n",
        "y = np.random.randn(100)\n",
        "ax.scatter(x, y, s=np.abs(x*100), c=x, cmap=plt.cm.coolwarm)\n",
        "ax.text(0, .5, thisvariable, fontsize=20, transform=ax.transAxes)\n",
        "ax.set_axis_off()"
      ]
    },
    {
      "cell_type": "markdown",
      "metadata": {
        "id": "gl_L1t4DFZEdZ"
      },
      "source": [
        "Dies funktioniert gut, wenn Sie die Zellenausgabe schnell anzeigen möchten, ohne Ihren Inhalt mit Code zu überladen. Dies funktioniert für jede Zellausgabe, wie einen Pandas DataFrame."
      ]
    },
    {
      "cell_type": "code",
      "execution_count": null,
      "metadata": {
        "tags": [
          "hide-input"
        ],
        "id": "gl_djQiH3SH02"
      },
      "outputs": [

      ],
      "source": [
        "import pandas as pd\n",
        "pd.DataFrame([['hi', 'there'], ['this', 'is'], ['a', 'DataFrame']], columns=['Word A', 'Word B'])"
      ]
    },
    {
      "cell_type": "markdown",
      "metadata": {
        "id": "gl_CJY7ue1JNh"
      },
      "source": [
        "Weitere Informationen zum Ausblenden und Entfernen von Inhalten finden Sie unter {ref} `hiding/remove-content`"
      ]
    },
    {
      "cell_type": "markdown",
      "metadata": {
        "id": "gl_JRJpAmU3Du"
      },
      "source": [
        "## Interaktive Ausgaben\n",
        "\n",
        "Dasselbe können wir für *interaktives* Material tun. Unten zeigen wir eine Karte mit [folium an](https://python-visualization.github.io/folium/) . Beim Erstellen Ihres Buchs wird der Code zum Erstellen der interaktiven Karte beibehalten.\n",
        "\n",
        "```{margin}\n",
        "**This will only work for some packages.** They need to be able to output standalone\n",
        "HTML/Javascript, and not\n",
        "depend on an underlying Python kernel to work.\n",
        "```"
      ]
    },
    {
      "cell_type": "code",
      "execution_count": null,
      "metadata": {
        "id": "gl_1rQWRaHkoi"
      },
      "outputs": [

      ],
      "source": [
        "import folium\n",
        "m = folium.Map(\n",
        "    location=[45.372, -121.6972],\n",
        "    zoom_start=12,\n",
        "    tiles='Stamen Terrain'\n",
        ")\n",
        "\n",
        "folium.Marker(\n",
        "    location=[45.3288, -121.6625],\n",
        "    popup='Mt. Hood Meadows',\n",
        "    icon=folium.Icon(icon='cloud')\n",
        ").add_to(m)\n",
        "\n",
        "folium.Marker(\n",
        "    location=[45.3311, -121.7113],\n",
        "    popup='Timberline Lodge',\n",
        "    icon=folium.Icon(color='green')\n",
        ").add_to(m)\n",
        "\n",
        "folium.Marker(\n",
        "    location=[45.3300, -121.6823],\n",
        "    popup='Some Other Location',\n",
        "    icon=folium.Icon(color='red', icon='info-sign')\n",
        ").add_to(m)\n",
        "\n",
        "m"
      ]
    },
    {
      "cell_type": "markdown",
      "metadata": {
        "id": "gl_Abjk13NIJ8"
      },
      "source": [
        "## Umfangreiche Ausgaben von Notebook-Zellen"
      ]
    },
    {
      "cell_type": "markdown",
      "metadata": {
        "id": "gl_6OAuamsAUt"
      },
      "source": [
        "Da Notebooks über Rich-Text-Ausgaben verfügen, können Sie diese auch in Ihrem Jupyter Book speichern! Hier ist zum Beispiel das Befehlszeilen-Hilfemenü, sehen Sie, wie es schön formatiert ist."
      ]
    },
    {
      "cell_type": "code",
      "execution_count": null,
      "metadata": {
        "id": "gl_pXivBgtz5I"
      },
      "outputs": [

      ],
      "source": [
        "!jupyter-book build --help"
      ]
    },
    {
      "cell_type": "markdown",
      "metadata": {
        "id": "gl_LOSBWNBoDs"
      },
      "source": [
        "Und hier ist ein Fehler. Sie können Notebook-Zellen als \"Fehler erwartet\" markieren, indem Sie ihnen ein `raises-exception` Tag hinzufügen."
      ]
    },
    {
      "cell_type": "code",
      "execution_count": null,
      "metadata": {
        "tags": [
          "raises-exception"
        ],
        "id": "gl_KqAM8TpiQf"
      },
      "outputs": [

      ],
      "source": [
        "this_will_error"
      ]
    },
    {
      "cell_type": "markdown",
      "metadata": {
        "id": "gl_K8l1XdK482"
      },
      "source": [
        "## Mehr Funktionen mit Jupyter-Notebooks\n",
        "\n",
        "Es gibt viele andere Funktionen von Jupyter-Notebooks, die Sie nutzen können, z. B. das automatische Generieren von Binder-Links für Notebooks oder das Verbinden Ihrer Inhalte mit einem Kernel in der Cloud. Weitere Informationen finden Sie auf den Seiten dieser Website und[](content:code-outputs) bestimmtes."
      ]
    }
  ],
  "metadata": {
    "kernelspec": {
      "display_name": "Python 3",
      "language": "python",
      "name": "python3"
    },
    "language_info": {
      "codemirror_mode": {
        "name": "ipython",
        "version": 3
      },
      "file_extension": ".py",
      "mimetype": "text/x-python",
      "name": "python",
      "nbconvert_exporter": "python",
      "pygments_lexer": "ipython3",
      "version": "3.7.6"
    },
    "toc": {
      "base_numbering": 1,
      "nav_menu": {
      },
      "number_sections": false,
      "sideBar": true,
      "skip_h1_title": false,
      "title_cell": "Table of Contents",
      "title_sidebar": "Contents",
      "toc_cell": false,
      "toc_position": {
      },
      "toc_section_display": true,
      "toc_window_display": false
    }
  },
  "nbformat": 4,
  "nbformat_minor": 4
}
